{
 "cells": [
  {
   "cell_type": "markdown",
   "id": "81ab0302-d55a-48f1-9da9-86e4be72f82f",
   "metadata": {},
   "source": [
    "#PDFを分割"
   ]
  },
  {
   "cell_type": "code",
   "execution_count": 2,
   "id": "65e98c07-35c2-4b42-9a18-c2f2c51d951c",
   "metadata": {},
   "outputs": [],
   "source": [
    "import glob,os,sys"
   ]
  },
  {
   "cell_type": "code",
   "execution_count": 3,
   "id": "cf3f4613-b457-4ca7-bc8b-c91809483a6f",
   "metadata": {},
   "outputs": [],
   "source": [
    "# モジュールのインポート\n",
    "import os, tkinter, tkinter.filedialog, tkinter.messagebox"
   ]
  },
  {
   "cell_type": "code",
   "execution_count": 4,
   "id": "ede0121a-d99f-40ad-946d-1809fa0fb48d",
   "metadata": {},
   "outputs": [],
   "source": [
    "# ファイル選択ダイアログの表示\n",
    "root = tkinter.Tk()\n",
    "root.withdraw()\n",
    "fTyp = [(\"PDF\",\"*.pdf\")]\n",
    "#iDir = os.path.abspath(os.path.dirname(os.getcwd()))\n",
    "iDir = os.path.abspath(os.path.dirname(sys.executable))\n",
    "#os.chdir(os.path.dirname(os.path.abspath(__file__)))\n",
    "#tkinter.messagebox.showinfo('○×プログラム','処理ファイルを選択してください！')\n",
    "file = tkinter.filedialog.askopenfilename(filetypes = fTyp,initialdir = iDir)"
   ]
  },
  {
   "cell_type": "code",
   "execution_count": 5,
   "id": "9fa018ce-50b7-401f-8930-ebc4e0d6779e",
   "metadata": {},
   "outputs": [
    {
     "name": "stdout",
     "output_type": "stream",
     "text": [
      "C:/Users/taguc/Downloads/01.pdf\n"
     ]
    }
   ],
   "source": [
    "print(file)"
   ]
  },
  {
   "cell_type": "code",
   "execution_count": 6,
   "id": "77657997-dfda-4e96-af60-4d8cfeb63433",
   "metadata": {},
   "outputs": [],
   "source": [
    "if file == \"\":\n",
    "    sys.exit(1)"
   ]
  },
  {
   "cell_type": "code",
   "execution_count": 7,
   "id": "111fc309-14ac-45d8-ba9a-0b5465c0238c",
   "metadata": {},
   "outputs": [],
   "source": [
    "import PyPDF2"
   ]
  },
  {
   "cell_type": "code",
   "execution_count": 8,
   "id": "108f48f8-e290-4807-b238-f00f5cd4e934",
   "metadata": {},
   "outputs": [],
   "source": [
    "from PyPDF2 import PdfFileWriter, PdfFileReader"
   ]
  },
  {
   "cell_type": "code",
   "execution_count": 9,
   "id": "4b31e46b-f156-4475-b309-d2d18deb413f",
   "metadata": {},
   "outputs": [
    {
     "name": "stderr",
     "output_type": "stream",
     "text": [
      "PdfReadWarning: Xref table not zero-indexed. ID numbers for objects will be corrected. [pdf.py:1736]\n"
     ]
    }
   ],
   "source": [
    "reader = PyPDF2.PdfFileReader(file)"
   ]
  },
  {
   "cell_type": "code",
   "execution_count": 10,
   "id": "dbd3b057-2817-4390-8488-87aebc1ce1f0",
   "metadata": {},
   "outputs": [
    {
     "data": {
      "text/plain": [
       "<PyPDF2.pdf.PdfFileReader at 0x1ffe0ea3dc0>"
      ]
     },
     "execution_count": 10,
     "metadata": {},
     "output_type": "execute_result"
    }
   ],
   "source": [
    "reader"
   ]
  },
  {
   "cell_type": "code",
   "execution_count": 11,
   "id": "f5df972e-e282-44ee-8ef4-ea87474d063d",
   "metadata": {},
   "outputs": [],
   "source": [
    "page_nums =reader.getNumPages()"
   ]
  },
  {
   "cell_type": "code",
   "execution_count": 12,
   "id": "c21e5c93-c883-4c83-ac20-9fc9c961fc73",
   "metadata": {},
   "outputs": [
    {
     "name": "stdout",
     "output_type": "stream",
     "text": [
      "1\n"
     ]
    }
   ],
   "source": [
    "print(page_nums)"
   ]
  },
  {
   "cell_type": "code",
   "execution_count": 13,
   "id": "687998be-56b9-421b-a4f4-7691431db1f3",
   "metadata": {},
   "outputs": [],
   "source": [
    "(name, extention) = os.path.splitext(file)"
   ]
  },
  {
   "cell_type": "code",
   "execution_count": 14,
   "id": "d7509371-5e5f-43bc-8faf-0a29ba4bee7c",
   "metadata": {},
   "outputs": [],
   "source": [
    "for num in range(page_nums):\n",
    "    file_object = reader.getPage(num)\n",
    "    pdf_file_name = name + '-' + str(num+1) + '.pdf'\n",
    "    pdf_file_writer = PdfFileWriter()\n",
    "    with open(pdf_file_name,'wb') as f:\n",
    "        pdf_file_writer.addPage(file_object)\n",
    "        pdf_file_writer.write(f)"
   ]
  },
  {
   "cell_type": "code",
   "execution_count": 15,
   "id": "3aae22e6-edf4-470c-9d34-a6226abb7f6c",
   "metadata": {},
   "outputs": [
    {
     "data": {
      "text/plain": [
       "'ok'"
      ]
     },
     "execution_count": 15,
     "metadata": {},
     "output_type": "execute_result"
    }
   ],
   "source": [
    "tkinter.messagebox.showinfo('PDF分割','PDFファイルの分割が終わりました！')"
   ]
  },
  {
   "cell_type": "code",
   "execution_count": null,
   "id": "cff32123-4428-47a2-a07b-91ed8ca997d5",
   "metadata": {},
   "outputs": [],
   "source": []
  }
 ],
 "metadata": {
  "kernelspec": {
   "display_name": "Python 3 (ipykernel)",
   "language": "python",
   "name": "python3"
  },
  "language_info": {
   "codemirror_mode": {
    "name": "ipython",
    "version": 3
   },
   "file_extension": ".py",
   "mimetype": "text/x-python",
   "name": "python",
   "nbconvert_exporter": "python",
   "pygments_lexer": "ipython3",
   "version": "3.9.6"
  }
 },
 "nbformat": 4,
 "nbformat_minor": 5
}
